{
 "cells": [
  {
   "cell_type": "code",
   "execution_count": 9,
   "id": "e5b119c4-2c2a-426c-b98c-8428fde372ec",
   "metadata": {},
   "outputs": [],
   "source": [
    "import math\n",
    "import numpy as np"
   ]
  },
  {
   "cell_type": "markdown",
   "id": "aea9104d-b450-4183-baea-fd92acc8cb9c",
   "metadata": {},
   "source": [
    "# Sigmoid Function"
   ]
  },
  {
   "cell_type": "markdown",
   "id": "53f4c450-8d36-4349-a3c2-1fed87ba756c",
   "metadata": {},
   "source": [
    "sigmoid function o?p range is always btw(0,1).SO when any values pass we will get (0,1) only!"
   ]
  },
  {
   "cell_type": "code",
   "execution_count": 12,
   "id": "016d86a5-672c-4755-bac3-ed053c9a5509",
   "metadata": {},
   "outputs": [],
   "source": [
    "def sigmoid(x):\n",
    "    return 1/(1+math.exp(-x))"
   ]
  },
  {
   "cell_type": "markdown",
   "id": "a8b2cf46-5653-4a7e-b693-187f1d191689",
   "metadata": {},
   "source": [
    "passing postive value"
   ]
  },
  {
   "cell_type": "code",
   "execution_count": 14,
   "id": "69dd7089-273f-4028-85b9-97e3a90f22b5",
   "metadata": {},
   "outputs": [
    {
     "data": {
      "text/plain": [
       "0.9996646498695336"
      ]
     },
     "execution_count": 14,
     "metadata": {},
     "output_type": "execute_result"
    }
   ],
   "source": [
    "sigmoid(8)"
   ]
  },
  {
   "cell_type": "markdown",
   "id": "d2df53c6-a4f3-4737-b762-352b173d9706",
   "metadata": {},
   "source": [
    "passing fractional value"
   ]
  },
  {
   "cell_type": "code",
   "execution_count": 16,
   "id": "0c312dc4-d8a1-4b4c-919a-571d1674fecd",
   "metadata": {},
   "outputs": [
    {
     "data": {
      "text/plain": [
       "1.0"
      ]
     },
     "execution_count": 16,
     "metadata": {},
     "output_type": "execute_result"
    }
   ],
   "source": [
    "sigmoid(100/2)"
   ]
  },
  {
   "cell_type": "markdown",
   "id": "5609fb2e-48c4-4b36-af06-f44c2c4b43c7",
   "metadata": {},
   "source": [
    "passing negative value too"
   ]
  },
  {
   "cell_type": "code",
   "execution_count": 18,
   "id": "1841ccbe-dce4-4415-873f-3c8970c98c7c",
   "metadata": {},
   "outputs": [
    {
     "data": {
      "text/plain": [
       "2.0611536181902037e-09"
      ]
     },
     "execution_count": 18,
     "metadata": {},
     "output_type": "execute_result"
    }
   ],
   "source": [
    "sigmoid(-20)"
   ]
  },
  {
   "cell_type": "code",
   "execution_count": 19,
   "id": "4ad9e5a1-91ec-419f-bce7-6434d7d24c1c",
   "metadata": {},
   "outputs": [
    {
     "data": {
      "text/plain": [
       "0.5"
      ]
     },
     "execution_count": 19,
     "metadata": {},
     "output_type": "execute_result"
    }
   ],
   "source": [
    "sigmoid(0)"
   ]
  },
  {
   "cell_type": "code",
   "execution_count": 20,
   "id": "6b5259b2-bfed-40e0-b851-0be8e4d35471",
   "metadata": {},
   "outputs": [
    {
     "data": {
      "text/plain": [
       "0.7310585786300049"
      ]
     },
     "execution_count": 20,
     "metadata": {},
     "output_type": "execute_result"
    }
   ],
   "source": [
    "sigmoid(1)"
   ]
  },
  {
   "cell_type": "markdown",
   "id": "724d5d8c-f349-4a69-9058-b9c47228ddb1",
   "metadata": {},
   "source": [
    "# Tanh(Hpyerbolic Tangent)"
   ]
  },
  {
   "cell_type": "markdown",
   "id": "70d5e967-5a49-4f74-b1d2-4c77635a79d9",
   "metadata": {},
   "source": [
    "Range is always btw (-1,1)"
   ]
  },
  {
   "cell_type": "code",
   "execution_count": 23,
   "id": "8ac85bfd-4086-4b7c-b1e7-91691cbbb6e1",
   "metadata": {},
   "outputs": [],
   "source": [
    "def tanh(x):\n",
    "    return (math.exp(x)-math.exp(-x))/(math.exp(x)+math.exp(-x))"
   ]
  },
  {
   "cell_type": "code",
   "execution_count": 24,
   "id": "edf55672-982e-47d4-86c7-92b681cb98ea",
   "metadata": {},
   "outputs": [
    {
     "data": {
      "text/plain": [
       "0.9950547536867306"
      ]
     },
     "execution_count": 24,
     "metadata": {},
     "output_type": "execute_result"
    }
   ],
   "source": [
    "tanh(3)"
   ]
  },
  {
   "cell_type": "code",
   "execution_count": 25,
   "id": "124593c7-af9e-4c13-8247-66d0f5e8608c",
   "metadata": {},
   "outputs": [
    {
     "data": {
      "text/plain": [
       "-1.0"
      ]
     },
     "execution_count": 25,
     "metadata": {},
     "output_type": "execute_result"
    }
   ],
   "source": [
    "tanh(-45)"
   ]
  },
  {
   "cell_type": "markdown",
   "id": "9314359f-a905-4660-a0aa-bb5ff15db91a",
   "metadata": {},
   "source": [
    "# RELU"
   ]
  },
  {
   "cell_type": "markdown",
   "id": "046c216a-3596-4e95-a177-69df63e428bc",
   "metadata": {},
   "source": [
    "RELU is used mostly because of fast and efficient.\n",
    "Range=[0,∞)\n"
   ]
  },
  {
   "cell_type": "code",
   "execution_count": 29,
   "id": "a605b21f-3c1d-45f3-9d9a-d4e28cd90fa0",
   "metadata": {},
   "outputs": [],
   "source": [
    "def relu(x):\n",
    "    return np.maximum(0,x)"
   ]
  },
  {
   "cell_type": "code",
   "execution_count": 30,
   "id": "33d1a01d-8b97-4c1b-855c-3e343f215958",
   "metadata": {},
   "outputs": [
    {
     "data": {
      "text/plain": [
       "9"
      ]
     },
     "execution_count": 30,
     "metadata": {},
     "output_type": "execute_result"
    }
   ],
   "source": [
    "relu(9)"
   ]
  },
  {
   "cell_type": "code",
   "execution_count": 31,
   "id": "90d75a82-bfd8-4650-a1fd-6680debccff9",
   "metadata": {},
   "outputs": [
    {
     "data": {
      "text/plain": [
       "0"
      ]
     },
     "execution_count": 31,
     "metadata": {},
     "output_type": "execute_result"
    }
   ],
   "source": [
    "relu(0)"
   ]
  },
  {
   "cell_type": "code",
   "execution_count": 32,
   "id": "4f3bc6ea-2f8c-4a9c-8fa9-ff24375bd0f2",
   "metadata": {},
   "outputs": [
    {
     "data": {
      "text/plain": [
       "1000000"
      ]
     },
     "execution_count": 32,
     "metadata": {},
     "output_type": "execute_result"
    }
   ],
   "source": [
    "relu(1000000)"
   ]
  },
  {
   "cell_type": "markdown",
   "id": "7f9a18cb-c2d9-4c6d-87db-e27488dd2973",
   "metadata": {},
   "source": [
    "# Leaky ReLU (Solves Dying ReLU)"
   ]
  },
  {
   "cell_type": "markdown",
   "id": "7dcb33bc-0a67-4bd9-b60c-4307f7e6e79d",
   "metadata": {},
   "source": [
    " Formula:\n",
    "f(x)=x, if x>0;\n",
    "         0.01x, if x<0\n",
    "✅ Solves Dying ReLU Problem\n",
    "✅ Output Range: (-∞, ∞)"
   ]
  },
  {
   "cell_type": "code",
   "execution_count": 35,
   "id": "58698789-2f3f-42fd-9597-f5d85f815622",
   "metadata": {},
   "outputs": [],
   "source": [
    "def leaky_relu(x):\n",
    "    return np.where(x > 0, x, 0.01 * x)"
   ]
  },
  {
   "cell_type": "code",
   "execution_count": 36,
   "id": "0415e61b-575d-4d8b-bf1a-53d083c5f867",
   "metadata": {},
   "outputs": [
    {
     "data": {
      "text/plain": [
       "array(8.)"
      ]
     },
     "execution_count": 36,
     "metadata": {},
     "output_type": "execute_result"
    }
   ],
   "source": [
    "leaky_relu(8)\n"
   ]
  },
  {
   "cell_type": "code",
   "execution_count": 37,
   "id": "a399fc77-dd7b-42e7-a5b1-650b7defa7da",
   "metadata": {},
   "outputs": [
    {
     "data": {
      "text/plain": [
       "array(0.)"
      ]
     },
     "execution_count": 37,
     "metadata": {},
     "output_type": "execute_result"
    }
   ],
   "source": [
    "leaky_relu(0)"
   ]
  },
  {
   "cell_type": "code",
   "execution_count": 65,
   "id": "3096042b-3509-4d56-be13-5636afc1736e",
   "metadata": {},
   "outputs": [
    {
     "data": {
      "text/plain": [
       "array(-0.05)"
      ]
     },
     "execution_count": 65,
     "metadata": {},
     "output_type": "execute_result"
    }
   ],
   "source": [
    "leaky_relu(-5)"
   ]
  },
  {
   "cell_type": "markdown",
   "id": "d8748af4-952c-4965-9fe9-c1fc89eae284",
   "metadata": {},
   "source": [
    "# Softmax Activation Function (For Multi-Class Classification)"
   ]
  },
  {
   "cell_type": "markdown",
   "id": "743136ec-d414-497f-89f7-3e192198d0eb",
   "metadata": {},
   "source": [
    "✅ Used in: Multi-Class Classification (e.g., MNIST, Image Classification)\n",
    "Output range=[0,1]"
   ]
  },
  {
   "cell_type": "code",
   "execution_count": 40,
   "id": "582e329a-5f3e-41bc-af05-c11f5e858dcb",
   "metadata": {},
   "outputs": [],
   "source": [
    "def softmax(x):\n",
    "    exp_x = np.exp(x - np.max(x))  # Stability trick\n",
    "    return exp_x / np.sum(exp_x)"
   ]
  },
  {
   "cell_type": "code",
   "execution_count": 41,
   "id": "54001392-7645-43f9-b9e4-ac85ae8cd7e9",
   "metadata": {},
   "outputs": [
    {
     "data": {
      "text/plain": [
       "1.0"
      ]
     },
     "execution_count": 41,
     "metadata": {},
     "output_type": "execute_result"
    }
   ],
   "source": [
    "softmax(0)"
   ]
  },
  {
   "cell_type": "code",
   "execution_count": 42,
   "id": "192bf8eb-187a-4f0f-ae7f-3c040ce83223",
   "metadata": {},
   "outputs": [
    {
     "data": {
      "text/plain": [
       "1.0"
      ]
     },
     "execution_count": 42,
     "metadata": {},
     "output_type": "execute_result"
    }
   ],
   "source": [
    "softmax(9)"
   ]
  },
  {
   "cell_type": "markdown",
   "id": "0c9176fa-4a8b-4bb7-8155-95f5af9b6926",
   "metadata": {},
   "source": [
    "# linear Activation FUnction"
   ]
  },
  {
   "cell_type": "code",
   "execution_count": 68,
   "id": "e4ffc30f-585d-4e5c-a1c8-2475e609b2b5",
   "metadata": {},
   "outputs": [
    {
     "name": "stdout",
     "output_type": "stream",
     "text": [
      "Output: 7\n"
     ]
    }
   ],
   "source": [
    "import numpy as np\n",
    "\n",
    "# Linear activation function\n",
    "def linear(x, a=1, b=0):\n",
    "    return a * x + b\n",
    "\n",
    "# Input value\n",
    "x = 2\n",
    "output = linear(x, a=2, b=3)\n",
    "\n",
    "print(f\"Output: {output}\")  # Output: 7 (2*2 + 3)\n"
   ]
  },
  {
   "cell_type": "code",
   "execution_count": null,
   "id": "ad9113ef-1dff-45e7-875b-d54fcce1042e",
   "metadata": {},
   "outputs": [],
   "source": []
  }
 ],
 "metadata": {
  "kernelspec": {
   "display_name": "Python 3 (ipykernel)",
   "language": "python",
   "name": "python3"
  },
  "language_info": {
   "codemirror_mode": {
    "name": "ipython",
    "version": 3
   },
   "file_extension": ".py",
   "mimetype": "text/x-python",
   "name": "python",
   "nbconvert_exporter": "python",
   "pygments_lexer": "ipython3",
   "version": "3.12.7"
  },
  "widgets": {
   "application/vnd.jupyter.widget-state+json": {
    "state": {},
    "version_major": 2,
    "version_minor": 0
   }
  }
 },
 "nbformat": 4,
 "nbformat_minor": 5
}
