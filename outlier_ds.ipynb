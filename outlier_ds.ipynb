{
 "cells": [
  {
   "cell_type": "code",
   "execution_count": 40,
   "id": "011c60e0-2a76-458c-941a-f9d952a64ac3",
   "metadata": {},
   "outputs": [],
   "source": [
    "# outliers:-"
   ]
  },
  {
   "cell_type": "markdown",
   "id": "29f8a1bd-a86f-4677-b513-265f9f3882a2",
   "metadata": {},
   "source": [
    "✨ Outlier Detection Methods :\n",
    "Statistical Methods\n",
    "Z-Score: Ye check karta hai data point mean se kitna door hai — agar Z > 3 ya < -3 ho toh outlier hai.\n",
    "IQR (Interquartile Range): Outliers wo points hote hain jo Q1 - 1.5 × IQR ya Q3 + 1.5 × IQR ke bahar hote hain.\n",
    "Modified Z-Score: Skewed data ke liye mean ki jagah median use karta hai outliers find karne ke liye.\n",
    "Machine Learning Methods\n",
    "Isolation Forest: Randomly data ko split karta hai — jo points jaldi isolate ho jayein, wo outliers hote hain.\n",
    "DBSCAN: Dense clusters se door low-density points ko outliers tag karta hai.\n",
    "One-Class SVM: Normal data ka boundary draw karta hai — jo points is boundary ke bahar hote hain, wo outliers hote hain.\n",
    "Deep Learning Methods\n",
    "Autoencoders: Normal data ko easily reconstruct karta hai, lekin outliers ke liye reconstruction error high hota hai.\n",
    "LSTM: Time-series data mein patterns break hone par outliers detect karta hai.\n"
   ]
  },
  {
   "cell_type": "code",
   "execution_count": 41,
   "id": "91928cd9-1801-4110-b82f-00b58b13d304",
   "metadata": {},
   "outputs": [],
   "source": [
    "# 1 method:\n",
    "# Z-score:\n"
   ]
  },
  {
   "cell_type": "code",
   "execution_count": 42,
   "id": "2efc524e-c1cf-42f9-b34d-467f1f81bd78",
   "metadata": {},
   "outputs": [],
   "source": [
    "import numpy as np\n",
    "import matplotlib.pyplot as plt\n",
    "%matplotlib inline\n",
    "# visualization k liye krna pdega jupyter notebook mei"
   ]
  },
  {
   "cell_type": "code",
   "execution_count": 51,
   "id": "588b9484-a5ff-4e36-a1d3-7269403e5e99",
   "metadata": {},
   "outputs": [
    {
     "name": "stdout",
     "output_type": "stream",
     "text": [
      "Outliers: [250]\n"
     ]
    }
   ],
   "source": [
    "def detect_outliers(data):\n",
    "    outliers = []  # Initialize an empty list to store outliers\n",
    "    threshold = 3\n",
    "    mean = np.mean(data)\n",
    "    std = np.std(data)\n",
    "    \n",
    "    for i in data:\n",
    "        z_score = (i - mean) / std\n",
    "        if np.abs(z_score) > threshold:\n",
    "            outliers.append(i)\n",
    "    \n",
    "    return outliers\n",
    "\n",
    "# Sample dataset with some outliers\n",
    "data = [10, 12, 14, 15, 17, 19, 20, 22, 25, 27, 30, 33, 35, 37, 40, 100, 105, 110, 200, 250]\n",
    "\n",
    "# Detect outliers\n",
    "print(\"Outliers:\", detect_outliers(data))\n"
   ]
  },
  {
   "cell_type": "code",
   "execution_count": 53,
   "id": "4c8ec278-602a-4926-8f78-b21e35b741ac",
   "metadata": {},
   "outputs": [
    {
     "data": {
      "text/plain": [
       "(array([12.,  3.,  0.,  2.,  1.,  0.,  0.,  1.,  0.,  1.]),\n",
       " array([ 10.,  34.,  58.,  82., 106., 130., 154., 178., 202., 226., 250.]),\n",
       " <BarContainer object of 10 artists>)"
      ]
     },
     "execution_count": 53,
     "metadata": {},
     "output_type": "execute_result"
    },
    {
     "data": {
      "image/png": "[encoded data removed]",
      "text/plain": [
       "<Figure size 640x480 with 1 Axes>"
      ]
     },
     "metadata": {},
     "output_type": "display_data"
    }
   ],
   "source": [
    "plt.hist(data)"
   ]
  },
  {
   "cell_type": "code",
   "execution_count": null,
   "id": "71293406-7efb-483b-9211-b8f2bf0ac59d",
   "metadata": {},
   "outputs": [],
   "source": [
    "<!-- 2nd method:IQR -->\n",
    "# 1.sort the dataset\n",
    "# 2.find Q1 and Q3\n",
    "# 3.FInd the IQR i.e Q3-Q1\n",
    "# 4.caculate lower fence:Q1-1.5*(IQR)\n",
    "# and higher fence:Q3+1.5*(IQR)"
   ]
  },
  {
   "cell_type": "code",
   "execution_count": 56,
   "id": "f3d34ca0-9783-4121-afef-48b46198bb41",
   "metadata": {},
   "outputs": [],
   "source": [
    "data = [10, 12, 14, 15, 17, 19, 20, 22, 25, 27, 30, 33, 35, 37, 40, 100, 105, 110, 200, 250]"
   ]
  },
  {
   "cell_type": "code",
   "execution_count": 58,
   "id": "2a02ba9c-d73d-44de-8aef-352d871be165",
   "metadata": {},
   "outputs": [
    {
     "data": {
      "text/plain": [
       "[10,\n",
       " 12,\n",
       " 14,\n",
       " 15,\n",
       " 17,\n",
       " 19,\n",
       " 20,\n",
       " 22,\n",
       " 25,\n",
       " 27,\n",
       " 30,\n",
       " 33,\n",
       " 35,\n",
       " 37,\n",
       " 40,\n",
       " 100,\n",
       " 105,\n",
       " 110,\n",
       " 200,\n",
       " 250]"
      ]
     },
     "execution_count": 58,
     "metadata": {},
     "output_type": "execute_result"
    }
   ],
   "source": [
    "data=sorted(data)\n",
    "data"
   ]
  },
  {
   "cell_type": "code",
   "execution_count": 60,
   "id": "5435b675-8784-40c1-aa5e-c39f65455f2e",
   "metadata": {},
   "outputs": [
    {
     "name": "stdout",
     "output_type": "stream",
     "text": [
      "18.5 55.0\n"
     ]
    }
   ],
   "source": [
    "# to find Q1 and Q3\n",
    "q1,q3=np.percentile(data,[25,75])\n",
    "print(q1,q3)"
   ]
  },
  {
   "cell_type": "code",
   "execution_count": 62,
   "id": "ed6a8539-6385-4b40-831b-3dfb67f3b12f",
   "metadata": {},
   "outputs": [
    {
     "name": "stdout",
     "output_type": "stream",
     "text": [
      "36.5\n"
     ]
    }
   ],
   "source": [
    "# to calculate the IQR\n",
    "iqr=q3-q1\n",
    "print(iqr)"
   ]
  },
  {
   "cell_type": "code",
   "execution_count": 64,
   "id": "054e0839-4153-4896-b7c7-855258cf5583",
   "metadata": {},
   "outputs": [],
   "source": [
    "# to find lower and higher fence\n",
    "lower_fence=q1-(1.5)*iqr\n",
    "higher_fence=q3+(1.5)*iqr"
   ]
  },
  {
   "cell_type": "code",
   "execution_count": 68,
   "id": "34cae801-993e-4f98-854b-c5ec1c92782a",
   "metadata": {},
   "outputs": [
    {
     "name": "stdout",
     "output_type": "stream",
     "text": [
      "-36.25\n",
      "109.75\n"
     ]
    }
   ],
   "source": [
    "print(lower_fence)\n",
    "print(higher_fence)"
   ]
  },
  {
   "cell_type": "code",
   "execution_count": 74,
   "id": "59b0e642-3b9f-4da6-8bdb-ee84e44c06e4",
   "metadata": {},
   "outputs": [
    {
     "name": "stdout",
     "output_type": "stream",
     "text": [
      "[110, 200, 250]\n"
     ]
    }
   ],
   "source": [
    "out_result=[x for x in data if x < lower_fence  or x> higher_fence]\n",
    "print(out_result)"
   ]
  },
  {
   "cell_type": "code",
   "execution_count": 6,
   "id": "1a3bab82-2be7-4b8c-85b2-3480c61d0c51",
   "metadata": {},
   "outputs": [
    {
     "ename": "NameError",
     "evalue": "name 'out_result' is not defined",
     "output_type": "error",
     "traceback": [
      "\u001b[1;31m---------------------------------------------------------------------------\u001b[0m",
      "\u001b[1;31mNameError\u001b[0m                                 Traceback (most recent call last)",
      "Cell \u001b[1;32mIn[6], line 2\u001b[0m\n\u001b[0;32m      1\u001b[0m \u001b[38;5;28;01mimport\u001b[39;00m \u001b[38;5;21;01mseaborn\u001b[39;00m \u001b[38;5;28;01mas\u001b[39;00m \u001b[38;5;21;01msns\u001b[39;00m\n\u001b[1;32m----> 2\u001b[0m sns\u001b[38;5;241m.\u001b[39mboxplot(data\u001b[38;5;241m=\u001b[39m\u001b[43mout_result\u001b[49m)\n\u001b[0;32m      3\u001b[0m plt\u001b[38;5;241m.\u001b[39mshow()\n",
      "\u001b[1;31mNameError\u001b[0m: name 'out_result' is not defined"
     ]
    }
   ],
   "source": []
  },
  {
   "cell_type": "code",
   "execution_count": null,
   "id": "ffc79a1c-f20a-4a83-9660-584e10c06dad",
   "metadata": {},
   "outputs": [],
   "source": []
  }
 ],
 "metadata": {
  "kernelspec": {
   "display_name": "Python 3 (ipykernel)",
   "language": "python",
   "name": "python3"
  },
  "language_info": {
   "codemirror_mode": {
    "name": "ipython",
    "version": 3
   },
   "file_extension": ".py",
   "mimetype": "text/x-python",
   "name": "python",
   "nbconvert_exporter": "python",
   "pygments_lexer": "ipython3",
   "version": "3.12.7"
  },
  "widgets": {
   "application/vnd.jupyter.widget-state+json": {
    "state": {},
    "version_major": 2,
    "version_minor": 0
   }
  }
 },
 "nbformat": 4,
 "nbformat_minor": 5
}
